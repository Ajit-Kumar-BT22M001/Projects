{
  "cells": [
    {
      "cell_type": "markdown",
      "metadata": {
        "id": "view-in-github",
        "colab_type": "text"
      },
      "source": [
        "<a href=\"https://colab.research.google.com/github/AjitKumar-Bio/Projects/blob/main/IR_M1_with_theory.ipynb\" target=\"_parent\"><img src=\"https://colab.research.google.com/assets/colab-badge.svg\" alt=\"Open In Colab\"/></a>"
      ]
    },
    {
      "cell_type": "code",
      "execution_count": null,
      "metadata": {
        "id": "CedfToSJuYVu"
      },
      "outputs": [],
      "source": [
        "import tensorflow as tf\n",
        "from tensorflow.keras.preprocessing.image import ImageDataGenerator\n",
        "from tensorflow.keras.applications import VGG16\n",
        "from tensorflow.keras.layers import Dense, Dropout, Flatten\n",
        "from tensorflow.keras.models import Model\n"
      ]
    },
    {
      "cell_type": "code",
      "execution_count": null,
      "metadata": {
        "id": "c2_vzGKZvGDe"
      },
      "outputs": [],
      "source": [
        "# Set the paths\n",
        "train_dir = '/content/drive/MyDrive/model-1_IR/train'\n",
        "validation_dir = '/content/drive/MyDrive/model-1_IR/vald'\n",
        "test_dir = '/content/drive/MyDrive/model-1_IR/tst'\n"
      ]
    },
    {
      "cell_type": "code",
      "execution_count": null,
      "metadata": {
        "id": "rkxPjmqSvJrR"
      },
      "outputs": [],
      "source": [
        "# Set the data generators\n",
        "train_datagen = ImageDataGenerator(\n",
        "    rescale=1./255,\n",
        "    rotation_range=20,\n",
        "    width_shift_range=0.2,\n",
        "    height_shift_range=0.2,\n",
        "    horizontal_flip=True\n",
        ")\n",
        "\n",
        "validation_datagen = ImageDataGenerator(rescale=1./255)\n"
      ]
    },
    {
      "cell_type": "code",
      "execution_count": null,
      "metadata": {
        "colab": {
          "base_uri": "https://localhost:8080/"
        },
        "id": "nbFdocRvvKtP",
        "outputId": "0bdc8759-9370-4e60-b8f1-a1c67b6f171d"
      },
      "outputs": [
        {
          "output_type": "stream",
          "name": "stdout",
          "text": [
            "Found 196 images belonging to 2 classes.\n",
            "Found 83 images belonging to 2 classes.\n"
          ]
        }
      ],
      "source": [
        "batch_size = 32\n",
        "img_size = 224\n",
        "\n",
        "train_generator = train_datagen.flow_from_directory(\n",
        "    train_dir,\n",
        "    target_size=(img_size, img_size),\n",
        "    batch_size=batch_size,\n",
        "    class_mode='binary'\n",
        ")\n",
        "\n",
        "validation_generator = validation_datagen.flow_from_directory(\n",
        "    validation_dir,\n",
        "    target_size=(img_size, img_size),\n",
        "    batch_size=batch_size,\n",
        "    class_mode='binary'\n",
        ")\n"
      ]
    },
    {
      "cell_type": "code",
      "execution_count": null,
      "metadata": {
        "colab": {
          "base_uri": "https://localhost:8080/"
        },
        "id": "y6uE_JbzvOEy",
        "outputId": "af362881-5b24-488c-f4cd-b55d3ac56bfe"
      },
      "outputs": [
        {
          "output_type": "stream",
          "name": "stdout",
          "text": [
            "Downloading data from https://storage.googleapis.com/tensorflow/keras-applications/vgg16/vgg16_weights_tf_dim_ordering_tf_kernels_notop.h5\n",
            "58889256/58889256 [==============================] - 1s 0us/step\n"
          ]
        }
      ],
      "source": [
        "#AlexNet another thing similar to Vgg16\n",
        "base_model = VGG16(\n",
        "    weights='imagenet',\n",
        "    include_top=False, # whether to include the 3 fully-connected layers at the top of the network.\n",
        "    input_shape=(img_size, img_size, 3)\n",
        ")\n",
        "\n",
        "x = base_model.output\n",
        "x = Flatten()(x) # convert nD to 2D\n",
        "x = Dense(512, activation='relu')(x) # it jst connect all the layers, 512 means 512 neurons \n",
        "x = Dropout(0.5)(x) # it drop out 50% neurons (neurons output) to avoid overfitting \n",
        "x = Dense(1, activation='sigmoid')(x) # convert any output value bw 0 and 1\n",
        "\n",
        "model = Model(inputs=base_model.input, outputs=x)\n"
      ]
    },
    {
      "cell_type": "markdown",
      "metadata": {
        "id": "cpKvVZOo8u_J"
      },
      "source": [
        "Note 1 - Optimizers are algorithms or methods that are used to change or tune the attributes of a neural network such as layer weights, learning rate, etc. in order to reduce the loss and in turn improve the model.\n",
        "\n",
        "Adam(Adaptive Moment Estimation) is an adaptive optimization algorithm that was created specifically for deep neural network training.\n",
        "\n",
        "https://www.geeksforgeeks.org/adam-optimizer-in-tensorflow/"
      ]
    },
    {
      "cell_type": "markdown",
      "metadata": {
        "id": "Jl4u5cTvPW1U"
      },
      "source": [
        "Note 2 - Cross-Entropy Loss: Also known as Negative Log Likelihood. It is the commonly used loss function for classification\n",
        "\n"
      ]
    },
    {
      "cell_type": "markdown",
      "metadata": {
        "id": "ZFEh7rVCITTM"
      },
      "source": [
        "Note 3 - The accuracy metric measures the percentage of correctly classified samples out of the total number of samples.  it represents the percentage of true positives and true negatives among all the predictions. \n",
        "\n",
        "the accuracy metric is also computed at the end of each epoch to monitor the performance of the model during training.\n",
        "\n"
      ]
    },
    {
      "cell_type": "code",
      "execution_count": null,
      "metadata": {
        "colab": {
          "base_uri": "https://localhost:8080/"
        },
        "id": "A1AggNj0vRQc",
        "outputId": "3f83d69a-191a-4b8e-9af3-5e8252e3d5ba"
      },
      "outputs": [
        {
          "output_type": "stream",
          "name": "stdout",
          "text": [
            "{'name': 'Adam', 'weight_decay': None, 'clipnorm': None, 'global_clipnorm': None, 'clipvalue': None, 'use_ema': False, 'ema_momentum': 0.99, 'ema_overwrite_frequency': None, 'jit_compile': False, 'is_legacy_optimizer': False, 'learning_rate': 0.001, 'beta_1': 0.9, 'beta_2': 0.999, 'epsilon': 1e-07, 'amsgrad': False}\n"
          ]
        }
      ],
      "source": [
        "for layer in base_model.layers:\n",
        "    layer.trainable = False # we are not changing the features extarcted in initial layers (from imagenet)\n",
        "\n",
        "model.compile(\n",
        "    optimizer=tf.keras.optimizers.Adam(),\n",
        "    loss='binary_crossentropy',\n",
        "    metrics=['accuracy']\n",
        ")\n",
        "print(model.optimizer.get_config())\n",
        "\n"
      ]
    },
    {
      "cell_type": "code",
      "execution_count": null,
      "metadata": {
        "id": "quUZ2Dj9vVDe"
      },
      "outputs": [],
      "source": [
        "#epochs = 25\n",
        "\n",
        "#history = model.fit(\n",
        "    #train_generator,\n",
        "    #steps_per_epoch=train_generator.n // batch_size,\n",
        "    #epochs=epochs,\n",
        "    #validation_data=validation_generator,\n",
        "    #validation_steps=validation_generator.n // batch_size\n",
        "#)\n",
        "#model.save('/content/drive/MyDrive/MODEL-1')\n"
      ]
    },
    {
      "cell_type": "code",
      "execution_count": null,
      "metadata": {
        "colab": {
          "base_uri": "https://localhost:8080/"
        },
        "id": "hBAQbpZgvXCw",
        "outputId": "7da10e3b-8343-481f-8324-a99777629593"
      },
      "outputs": [
        {
          "output_type": "stream",
          "name": "stdout",
          "text": [
            "Found 33 images belonging to 2 classes.\n",
            "2/2 [==============================] - 21s 895ms/step - loss: 6.0582 - accuracy: 0.0606\n"
          ]
        },
        {
          "output_type": "execute_result",
          "data": {
            "text/plain": [
              "[6.058191299438477, 0.06060606241226196]"
            ]
          },
          "metadata": {},
          "execution_count": 8
        }
      ],
      "source": [
        "test_datagen = ImageDataGenerator(rescale=1./255)\n",
        "\n",
        "test_generator = test_datagen.flow_from_directory(\n",
        "    test_dir,\n",
        "    target_size=(img_size, img_size),\n",
        "    batch_size=batch_size,\n",
        "    class_mode='binary'\n",
        ")\n",
        "\n",
        "model = tf.keras.models.load_model('/content/drive/MyDrive/MODEL-1')\n",
        "model.evaluate(test_generator)\n",
        "\n"
      ]
    },
    {
      "cell_type": "markdown",
      "source": [
        "Note 4 - the model.predict() method expects a batch of images as input, even if the batch only contains a single image. In other words, the input to model.predict() should be a 4D tensor with shape (batch_size, img_width, img_height, channels), where batch_size is the number of images in the batch, img_width and img_height are the dimensions of the input images, and channels is the number of color channels in the images.\n",
        "\n",
        "we convert the 3D tensor representing a single image into a 4D tensor with shape (1, img_width, img_height, channels), which can be used as input to the model.predict() method."
      ],
      "metadata": {
        "id": "uU6fJbT7grla"
      }
    },
    {
      "cell_type": "code",
      "execution_count": null,
      "metadata": {
        "colab": {
          "base_uri": "https://localhost:8080/",
          "height": 283
        },
        "id": "LfTAh8j_vJqJ",
        "outputId": "1b3ba2b2-b6f2-4514-e6b0-bba9737ceee7"
      },
      "outputs": [
        {
          "output_type": "stream",
          "name": "stdout",
          "text": [
            "1/1 [==============================] - 1s 679ms/step\n"
          ]
        },
        {
          "output_type": "display_data",
          "data": {
            "text/plain": [
              "<Figure size 432x288 with 1 Axes>"
            ],
            "image/png": "[encoded data removed]"
          },
          "metadata": {
            "needs_background": "light"
          }
        },
        {
          "output_type": "stream",
          "name": "stdout",
          "text": [
            "The image is of 'bar' class.\n"
          ]
        }
      ],
      "source": [
        "from tensorflow.keras.preprocessing import image\n",
        "import numpy as np\n",
        "import matplotlib.pyplot as plt\n",
        "\n",
        "# Load a new image\n",
        "img_path = '/content/drive/MyDrive/model-1_IR/FT/FT_REB/61.png'\n",
        "img = image.load_img(img_path, target_size=(img_size, img_size))\n",
        "img_array = image.img_to_array(img)\n",
        "img_array = np.expand_dims(img_array, axis=0) #Position in the expanded axes where the new axis (or axes) is placed.\n",
        "img_array /= 255.\n",
        "\n",
        "# Use the model to make a prediction\n",
        "prediction = model.predict(img_array)\n",
        "\n",
        "# Plot the image\n",
        "plt.imshow(img)\n",
        "plt.axis('off')\n",
        "plt.show()\n",
        "\n",
        "if prediction < 0.5:\n",
        "    print(\"The image is of 'cement' class.\")\n",
        "else:\n",
        "    print(\"The image is of 'bar' class.\")\n"
      ]
    },
    {
      "cell_type": "code",
      "execution_count": null,
      "metadata": {
        "colab": {
          "base_uri": "https://localhost:8080/"
        },
        "id": "FiIkaAhdjdzV",
        "outputId": "767beb22-0eba-4e6d-8afc-4cf92e609a3b"
      },
      "outputs": [
        {
          "output_type": "stream",
          "name": "stdout",
          "text": [
            "Drive already mounted at /content/drive; to attempt to forcibly remount, call drive.mount(\"/content/drive\", force_remount=True).\n"
          ]
        }
      ],
      "source": [
        "from google.colab import drive\n",
        "drive.mount('/content/drive')"
      ]
    },
    {
      "cell_type": "code",
      "execution_count": null,
      "metadata": {
        "id": "qqlHgtFp8uFn"
      },
      "outputs": [],
      "source": []
    }
  ],
  "metadata": {
    "colab": {
      "provenance": [],
      "include_colab_link": true
    },
    "kernelspec": {
      "display_name": "Python 3",
      "name": "python3"
    },
    "language_info": {
      "name": "python"
    }
  },
  "nbformat": 4,
  "nbformat_minor": 0
}