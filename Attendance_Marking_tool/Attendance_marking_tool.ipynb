{
 "cells": [
  {
   "cell_type": "code",
   "execution_count": null,
   "metadata": {},
   "outputs": [],
   "source": [
    "pip install openpyxl"
   ]
  },
  {
   "cell_type": "code",
   "execution_count": 18,
   "metadata": {},
   "outputs": [],
   "source": [
    "# Final Tool\n",
    "import openpyxl\n",
    "\n",
    "# Load the Excel file\n",
    "workbook = openpyxl.load_workbook(filename='ATTENDANCE ELECTIVE.xlsx')\n",
    "\n",
    "# Select the \"SEC 2 CRC 102\" worksheet\n",
    "worksheet = workbook['SEC 2 CRC 102']\n",
    "\n",
    "# Get the roll numbers of all present students\n",
    "with open('roll_numbers.csv', 'r') as f:\n",
    "    present_roll_numbers = [line.strip().lower() for line in f]\n",
    "\n",
    "# Find the column for the current date (e.g., '31-03-2023')\n",
    "column_for_current_date = None\n",
    "for cell in worksheet[3]:\n",
    "    if cell.value == '31-03-2023':\n",
    "        column_for_date = cell.column\n",
    "        break\n",
    "\n",
    "# Iterate over the rows in the worksheet and mark attendance for present students\n",
    "for row in worksheet.iter_rows(min_row=4, max_row=193):\n",
    "    roll_number_cell = row[0]\n",
    "    if roll_number_cell is not None and roll_number_cell.value is not None:\n",
    "        roll_number = roll_number_cell.value.lower()\n",
    "        if roll_number in present_roll_numbers:\n",
    "            # Mark attendance for the current date (e.g., '31-03-2023')\n",
    "            attendance_cell = row[column_for_date - 1]\n",
    "            attendance_cell.value = 'P'\n",
    "\n",
    "# Save the updated Excel file\n",
    "workbook.save(filename='attendance_elective_updated.xlsx')\n"
   ]
  },
  {
   "cell_type": "code",
   "execution_count": null,
   "metadata": {},
   "outputs": [],
   "source": []
  },
  {
   "cell_type": "code",
   "execution_count": 2,
   "metadata": {},
   "outputs": [
    {
     "name": "stdout",
     "output_type": "stream",
     "text": [
      "Collecting openpyxl\n",
      "  Downloading openpyxl-3.1.2-py2.py3-none-any.whl (249 kB)\n",
      "     ---------------------------------------- 0.0/250.0 kB ? eta -:--:--\n",
      "     -------------------------------------  245.8/250.0 kB 5.0 MB/s eta 0:00:01\n",
      "     -------------------------------------- 250.0/250.0 kB 3.9 MB/s eta 0:00:00\n",
      "Collecting et-xmlfile\n",
      "  Downloading et_xmlfile-1.1.0-py3-none-any.whl (4.7 kB)\n",
      "Installing collected packages: et-xmlfile, openpyxl\n",
      "Successfully installed et-xmlfile-1.1.0 openpyxl-3.1.2\n",
      "Note: you may need to restart the kernel to use updated packages.\n"
     ]
    }
   ],
   "source": []
  },
  {
   "cell_type": "code",
   "execution_count": null,
   "metadata": {},
   "outputs": [],
   "source": []
  }
 ],
 "metadata": {
  "kernelspec": {
   "display_name": "Python 3",
   "language": "python",
   "name": "python3"
  },
  "language_info": {
   "codemirror_mode": {
    "name": "ipython",
    "version": 3
   },
   "file_extension": ".py",
   "mimetype": "text/x-python",
   "name": "python",
   "nbconvert_exporter": "python",
   "pygments_lexer": "ipython3",
   "version": "3.11.2"
  },
  "orig_nbformat": 4,
  "vscode": {
   "interpreter": {
    "hash": "2dda0f79afad4dd2756ca962e5ffd3f167d1fc827b2b83379abae5bda107b839"
   }
  }
 },
 "nbformat": 4,
 "nbformat_minor": 2
}
